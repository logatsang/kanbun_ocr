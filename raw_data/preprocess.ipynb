{
 "cells": [
  {
   "cell_type": "code",
   "execution_count": 1,
   "metadata": {},
   "outputs": [],
   "source": [
    "import os\n",
    "import itertools\n",
    "from tqdm.notebook import tqdm\n",
    "import numpy as np\n",
    "\n",
    "import cv2\n",
    "from matplotlib import pyplot as plt\n",
    "\n",
    "MARGIN_SIZE = 120"
   ]
  },
  {
   "cell_type": "code",
   "execution_count": 2,
   "metadata": {},
   "outputs": [],
   "source": [
    "def hide_infobox(img_path, output_path):\n",
    "    img = cv2.imread(img_path)[MARGIN_SIZE:-MARGIN_SIZE, MARGIN_SIZE:-MARGIN_SIZE]\n",
    "    height, width, channels = img.shape\n",
    "\n",
    "    # Grayscale processing\n",
    "    gray = cv2.cvtColor(img, code=cv2.COLOR_BGR2GRAY)\n",
    "    alpha = 1.5\n",
    "    beta = -50\n",
    "    contrast = cv2.convertScaleAbs(gray, alpha=alpha, beta=beta)\n",
    "\n",
    "    retval, img2 = cv2.threshold(contrast, thresh=180, maxval=255, type=cv2.THRESH_TOZERO)\n",
    "\n",
    "    # Detect lines\n",
    "    edges = cv2.Canny(img2, threshold1=10, threshold2=200)\n",
    "    blur_edges = cv2.blur(edges, (2, 2)) \n",
    "\n",
    "    contours, hierarchy = cv2.findContours(blur_edges, cv2.RETR_TREE, cv2.CHAIN_APPROX_SIMPLE)\n",
    "\n",
    "    line_coords = []\n",
    "    line_contours = []\n",
    "    for cnt in contours:\n",
    "        arclen = cv2.arcLength(cnt, True)\n",
    "        approx = cv2.approxPolyDP(cnt, arclen*0.01, True)\n",
    "        #drawContours\n",
    "        if len(approx) == 2:\n",
    "            min_diff, max_diff = np.sort(np.ptp(approx[:,0], axis=0))\n",
    "            if True or min_diff < 10 and max_diff > 40:\n",
    "                line_contours.append(approx)\n",
    "                line_coords.extend(approx)\n",
    "        else:\n",
    "            pass # line_contours.append(approx)\n",
    "\n",
    "    line_coords = np.reshape(line_coords, (-1, 2))\n",
    "\n",
    "    # Remove lines in upper quarter of image (underline for running header)\n",
    "    line_coords = line_coords[line_coords[:,1]>height//4]\n",
    "\n",
    "    try:\n",
    "        corners = np.array([np.min(line_coords, axis=0), np.max(line_coords, axis=0)])\n",
    "    except ValueError:\n",
    "        tqdm.write(f\"ERROR: Failed to detect infobox in {output_path}.\")\n",
    "        cv2.imwrite(output_path, img)\n",
    "        return None\n",
    "\n",
    "    # Adjust covering rectangle\n",
    "    corners[1][1] = height\n",
    "    corners[1][0] += width//500\n",
    "\n",
    "    cv2.rectangle(img, *corners, (255, 255, 255), -1)\n",
    "    # img2 = cv2.cvtColor(img2, cv2.COLOR_GRAY2BGR)\n",
    "    # cv2.drawContours(img2, line_contours, -1, (0, 255, 0), 4)\n",
    "    cv2.imwrite(output_path, img)\n",
    "\n",
    "    # Possibly incorrect selection\n",
    "    # if corners.sum(axis=0).prod() > 0.4 * height * width:\n",
    "    #     tqdm.write(f\"WARNING: Detected infobox occupies more than 40%: {output_path}\")\n",
    "\n",
    "    return corners"
   ]
  },
  {
   "cell_type": "code",
   "execution_count": 3,
   "metadata": {},
   "outputs": [],
   "source": [
    "def rename(img_dirs, reverse=True):\n",
    "    page_count = 0\n",
    "\n",
    "    for img_dir in tqdm(img_dirs):\n",
    "        files = os.listdir(img_dir)\n",
    "        page_count += len(files)\n",
    "\n",
    "        if reverse:\n",
    "            files = files[::-1]\n",
    "\n",
    "        for index, file in tqdm(enumerate(files)):\n",
    "            rename_path = os.path.join(img_dir, f\"raw_{index:04}.jp2\")\n",
    "            os.rename(\n",
    "                os.path.join(img_dir, file),\n",
    "                rename_path\n",
    "            )\n",
    "\n",
    "    return page_count"
   ]
  },
  {
   "cell_type": "code",
   "execution_count": 6,
   "metadata": {},
   "outputs": [],
   "source": [
    "def batch_preprocess(img_dirs, out_dir, batch_size=100):\n",
    "    files = []\n",
    "    for img_dir in img_dirs:\n",
    "        files.extend([os.path.join(img_dir, filename) for filename in os.listdir(img_dir)])\n",
    "\n",
    "    page_count = 0\n",
    "    for index, batch in enumerate(tqdm(list(itertools.batched(files, batch_size)))):\n",
    "        \n",
    "        batch_dir = os.path.join(out_dir, f\"batch_{index:04}\")\n",
    "        os.mkdir(batch_dir)\n",
    "\n",
    "        for file in tqdm(batch):\n",
    "            hide_infobox(file, os.path.join(batch_dir, f\"{page_count:04}.jpg\"))\n",
    "            page_count += 1\n",
    "\n",
    "    return page_count"
   ]
  },
  {
   "cell_type": "code",
   "execution_count": 5,
   "metadata": {},
   "outputs": [
    {
     "data": {
      "application/vnd.jupyter.widget-view+json": {
       "model_id": "a610c2f658bb4a6a80741d896eb35c21",
       "version_major": 2,
       "version_minor": 0
      },
      "text/plain": [
       "  0%|          | 0/2 [00:00<?, ?it/s]"
      ]
     },
     "metadata": {},
     "output_type": "display_data"
    },
    {
     "data": {
      "application/vnd.jupyter.widget-view+json": {
       "model_id": "2669c8afc10243578424b79569ccbd3e",
       "version_major": 2,
       "version_minor": 0
      },
      "text/plain": [
       "0it [00:00, ?it/s]"
      ]
     },
     "metadata": {},
     "output_type": "display_data"
    },
    {
     "data": {
      "application/vnd.jupyter.widget-view+json": {
       "model_id": "e6d33d9cc9054bdcb9def11fb048cf30",
       "version_major": 2,
       "version_minor": 0
      },
      "text/plain": [
       "0it [00:00, ?it/s]"
      ]
     },
     "metadata": {},
     "output_type": "display_data"
    },
    {
     "data": {
      "text/plain": [
       "1032"
      ]
     },
     "execution_count": 5,
     "metadata": {},
     "output_type": "execute_result"
    }
   ],
   "source": [
    "input_dirs = [\"kokuyaku1\", \"kokuyaku2\"]\n",
    "output_dir = \"collated\"\n",
    "rename(input_dirs)"
   ]
  },
  {
   "cell_type": "code",
   "execution_count": 7,
   "metadata": {},
   "outputs": [
    {
     "data": {
      "application/vnd.jupyter.widget-view+json": {
       "model_id": "f89cc0b5ece348e6b626616bb18c5032",
       "version_major": 2,
       "version_minor": 0
      },
      "text/plain": [
       "  0%|          | 0/11 [00:00<?, ?it/s]"
      ]
     },
     "metadata": {},
     "output_type": "display_data"
    },
    {
     "data": {
      "application/vnd.jupyter.widget-view+json": {
       "model_id": "86dd96d641454004a30d4b84b5b17be8",
       "version_major": 2,
       "version_minor": 0
      },
      "text/plain": [
       "  0%|          | 0/100 [00:00<?, ?it/s]"
      ]
     },
     "metadata": {},
     "output_type": "display_data"
    },
    {
     "data": {
      "application/vnd.jupyter.widget-view+json": {
       "model_id": "4824bd3364d84852bce342ce933596a0",
       "version_major": 2,
       "version_minor": 0
      },
      "text/plain": [
       "  0%|          | 0/100 [00:00<?, ?it/s]"
      ]
     },
     "metadata": {},
     "output_type": "display_data"
    },
    {
     "data": {
      "application/vnd.jupyter.widget-view+json": {
       "model_id": "710b2cb4876c4d1fa33abf02d992ba93",
       "version_major": 2,
       "version_minor": 0
      },
      "text/plain": [
       "  0%|          | 0/100 [00:00<?, ?it/s]"
      ]
     },
     "metadata": {},
     "output_type": "display_data"
    },
    {
     "data": {
      "application/vnd.jupyter.widget-view+json": {
       "model_id": "3edb510fbf334ad8bb5f74ebe9b34f73",
       "version_major": 2,
       "version_minor": 0
      },
      "text/plain": [
       "  0%|          | 0/100 [00:00<?, ?it/s]"
      ]
     },
     "metadata": {},
     "output_type": "display_data"
    },
    {
     "data": {
      "application/vnd.jupyter.widget-view+json": {
       "model_id": "0ddce02bece944368653b1f3820e6077",
       "version_major": 2,
       "version_minor": 0
      },
      "text/plain": [
       "  0%|          | 0/100 [00:00<?, ?it/s]"
      ]
     },
     "metadata": {},
     "output_type": "display_data"
    },
    {
     "data": {
      "application/vnd.jupyter.widget-view+json": {
       "model_id": "394f15d5852546c3bb05871c4dd2c8ef",
       "version_major": 2,
       "version_minor": 0
      },
      "text/plain": [
       "  0%|          | 0/100 [00:00<?, ?it/s]"
      ]
     },
     "metadata": {},
     "output_type": "display_data"
    },
    {
     "name": "stdout",
     "output_type": "stream",
     "text": [
      "ERROR: Failed to detect infobox in collated\\batch_0005\\0548.jpg.\n"
     ]
    },
    {
     "data": {
      "application/vnd.jupyter.widget-view+json": {
       "model_id": "91f50eacb0fe481eacf3b824dfc3ab71",
       "version_major": 2,
       "version_minor": 0
      },
      "text/plain": [
       "  0%|          | 0/100 [00:00<?, ?it/s]"
      ]
     },
     "metadata": {},
     "output_type": "display_data"
    },
    {
     "name": "stdout",
     "output_type": "stream",
     "text": [
      "ERROR: Failed to detect infobox in collated\\batch_0006\\0613.jpg.\n",
      "ERROR: Failed to detect infobox in collated\\batch_0006\\0657.jpg.\n",
      "ERROR: Failed to detect infobox in collated\\batch_0006\\0680.jpg.\n"
     ]
    },
    {
     "data": {
      "application/vnd.jupyter.widget-view+json": {
       "model_id": "667f6a21da23419fb5824a6e1c504bb4",
       "version_major": 2,
       "version_minor": 0
      },
      "text/plain": [
       "  0%|          | 0/100 [00:00<?, ?it/s]"
      ]
     },
     "metadata": {},
     "output_type": "display_data"
    },
    {
     "data": {
      "application/vnd.jupyter.widget-view+json": {
       "model_id": "97196e2c10a54bd8bff544e55c072499",
       "version_major": 2,
       "version_minor": 0
      },
      "text/plain": [
       "  0%|          | 0/100 [00:00<?, ?it/s]"
      ]
     },
     "metadata": {},
     "output_type": "display_data"
    },
    {
     "data": {
      "application/vnd.jupyter.widget-view+json": {
       "model_id": "fd767e16d8ce4eed98e9f50cbde364f9",
       "version_major": 2,
       "version_minor": 0
      },
      "text/plain": [
       "  0%|          | 0/100 [00:00<?, ?it/s]"
      ]
     },
     "metadata": {},
     "output_type": "display_data"
    },
    {
     "data": {
      "application/vnd.jupyter.widget-view+json": {
       "model_id": "d7b259b56c694b5faad48c37a7a08ce3",
       "version_major": 2,
       "version_minor": 0
      },
      "text/plain": [
       "  0%|          | 0/32 [00:00<?, ?it/s]"
      ]
     },
     "metadata": {},
     "output_type": "display_data"
    },
    {
     "data": {
      "text/plain": [
       "1032"
      ]
     },
     "execution_count": 7,
     "metadata": {},
     "output_type": "execute_result"
    }
   ],
   "source": [
    "batch_preprocess(input_dirs, output_dir)"
   ]
  }
 ],
 "metadata": {
  "kernelspec": {
   "display_name": "Python 3",
   "language": "python",
   "name": "python3"
  },
  "language_info": {
   "codemirror_mode": {
    "name": "ipython",
    "version": 3
   },
   "file_extension": ".py",
   "mimetype": "text/x-python",
   "name": "python",
   "nbconvert_exporter": "python",
   "pygments_lexer": "ipython3",
   "version": "3.12.1"
  }
 },
 "nbformat": 4,
 "nbformat_minor": 2
}
