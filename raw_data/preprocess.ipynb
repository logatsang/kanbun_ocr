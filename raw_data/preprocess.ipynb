{
 "cells": [
  {
   "cell_type": "code",
   "execution_count": 1,
   "metadata": {},
   "outputs": [],
   "source": [
    "import os\n",
    "import math\n",
    "import numpy as np\n",
    "\n",
    "import cv2\n",
    "from matplotlib import pyplot as plt"
   ]
  },
  {
   "cell_type": "code",
   "execution_count": 5,
   "metadata": {},
   "outputs": [],
   "source": [
    "book_dir = 'kokuyaku1'\n",
    "filename = 'kokuyakukanbunta058800uoft_0400.jp2'\n",
    "\n",
    "path = os.path.join(book_dir, filename)"
   ]
  },
  {
   "cell_type": "code",
   "execution_count": 6,
   "metadata": {},
   "outputs": [
    {
     "data": {
      "text/plain": [
       "array([[ 567, 1660],\n",
       "       [1459, 2944]], dtype=int32)"
      ]
     },
     "execution_count": 6,
     "metadata": {},
     "output_type": "execute_result"
    }
   ],
   "source": [
    "\n",
    "img = cv2.imread(path)\n",
    "height, width, channels = img.shape\n",
    "\n",
    "# Grayscale processing\n",
    "gray = cv2.cvtColor(img, code=cv2.COLOR_BGR2GRAY)\n",
    "alpha = 1.5\n",
    "beta = -50\n",
    "contrast = cv2.convertScaleAbs(gray, alpha=alpha, beta=beta)\n",
    "\n",
    "retval, img2 = cv2.threshold(contrast, thresh=180, maxval=255, type=cv2.THRESH_TOZERO)\n",
    "\n",
    "# Detect lines\n",
    "edges = cv2.Canny(img2, threshold1=10, threshold2=200)\n",
    "\n",
    "contours, hierarchy = cv2.findContours(edges, cv2.RETR_TREE, cv2.CHAIN_APPROX_SIMPLE)\n",
    "\n",
    "line_coords = []\n",
    "line_contours = []\n",
    "for cnt in contours:\n",
    "    arclen = cv2.arcLength(cnt, True)\n",
    "    approx = cv2.approxPolyDP(cnt, arclen*0.01, True)\n",
    "    #drawContours\n",
    "    if len(approx) == 2:\n",
    "        min_diff, max_diff = np.sort(np.ptp(approx[:,0], axis=0))\n",
    "        if min_diff < 10 and max_diff > 40:\n",
    "            line_contours.append(approx)\n",
    "            line_coords.extend(approx)\n",
    "\n",
    "line_coords = np.reshape(line_coords, (-1, 2))\n",
    "\n",
    "# Remove lines in upper quarter of image (underline for running header)\n",
    "line_coords = line_coords[line_coords[:,1]>height//4]\n",
    "\n",
    "new_contours = np.array([np.min(line_coords, axis=0), np.max(line_coords, axis=0)])\n",
    "new_contours"
   ]
  },
  {
   "cell_type": "code",
   "execution_count": 15,
   "metadata": {},
   "outputs": [
    {
     "data": {
      "text/plain": [
       "True"
      ]
     },
     "execution_count": 15,
     "metadata": {},
     "output_type": "execute_result"
    }
   ],
   "source": [
    "cv2.rectangle(img2, *new_contours, (255, 255, 255), -1)\n",
    "cv2.imwrite(\"output.jpg\", img2)"
   ]
  },
  {
   "cell_type": "code",
   "execution_count": 14,
   "metadata": {},
   "outputs": [
    {
     "data": {
      "text/plain": [
       "(180, 223, 234)"
      ]
     },
     "execution_count": 14,
     "metadata": {},
     "output_type": "execute_result"
    }
   ],
   "source": [
    "tuple(img[20][height//2])"
   ]
  }
 ],
 "metadata": {
  "kernelspec": {
   "display_name": "Python 3",
   "language": "python",
   "name": "python3"
  },
  "language_info": {
   "codemirror_mode": {
    "name": "ipython",
    "version": 3
   },
   "file_extension": ".py",
   "mimetype": "text/x-python",
   "name": "python",
   "nbconvert_exporter": "python",
   "pygments_lexer": "ipython3",
   "version": "3.11.5"
  }
 },
 "nbformat": 4,
 "nbformat_minor": 2
}
