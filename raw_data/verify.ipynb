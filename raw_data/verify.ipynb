{
 "cells": [
  {
   "cell_type": "code",
   "execution_count": null,
   "metadata": {},
   "outputs": [],
   "source": [
    "from tqdm.notebook import tqdm"
   ]
  },
  {
   "cell_type": "code",
   "execution_count": null,
   "metadata": {},
   "outputs": [],
   "source": [
    "with open(\"LDC2017T14_untagged.txt\", \"r\", encoding=\"utf-8\") as verifier_data:\n",
    "    verifier = verifier_data.read()\n",
    "    verifier_sentences = verifier.splitlines()\n",
    "\n",
    "with open(\"kokuyaku_auto.txt\", \"r\", encoding=\"utf-8\") as challenge_data:\n",
    "    challenge = challenge_data.read()\n",
    "\n",
    "len(verifier), len(challenge), len(verifier_sentences)"
   ]
  },
  {
   "cell_type": "code",
   "execution_count": null,
   "metadata": {},
   "outputs": [],
   "source": [
    "SCAN_SIZE = 50\n",
    "scan_pos = SCAN_SIZE\n",
    "\n",
    "FUNCTION = {\n",
    "    \"之\": (\"の\", \"これ\"),\n",
    "    \"不\": (\"ず\", \"ざる\", \"ざり\"),\n",
    "    \"而\": (\"て\",),\n",
    "    \"也\": (\"なり\",)\n",
    "}\n",
    "\n",
    "OKIJI = \"乎於于矣焉\"\n",
    "\n",
    "LOWER_BOUND, UPPER_BOUND = SCAN_SIZE, len(challenge) - SCAN_SIZE\n",
    "\n",
    "def pinch(x):\n",
    "    return max(min(x, UPPER_BOUND), LOWER_BOUND)"
   ]
  },
  {
   "cell_type": "code",
   "execution_count": null,
   "metadata": {},
   "outputs": [],
   "source": [
    "for sentence in tqdm(verifier_sentences[0:999]):\n",
    "    for char in sentence:\n",
    "        # Check that a character is represented\n",
    "\n",
    "        window = challenge[scan_pos - SCAN_SIZE : scan_pos + SCAN_SIZE]\n",
    "        # Best case scenario\n",
    "        find_result = window.find(char)\n",
    "        if find_result != -1:\n",
    "            # scan_pos = pinch(scan_pos - SCAN_SIZE + find_result)\n",
    "            continue\n",
    "\n",
    "        if char in FUNCTION:\n",
    "            for translation in FUNCTION[char]:\n",
    "                find_result = window.find(translation)\n",
    "                if find_result != -1:\n",
    "                    if len(translation) == 1: # Short, could be false positive\n",
    "                        tqdm.write(f\"NOTE: Reading character {char} ({sentence}) as {translation} in window {window}\")\n",
    "                    # scan_pos = pinch(scan_pos - SCAN_SIZE + find_result)\n",
    "                    continue\n",
    "\n",
    "        tqdm.write(f\"MISSING: Could not find character {char} ({sentence}) in window {window}\")\n",
    "\n"
   ]
  }
 ],
 "metadata": {
  "kernelspec": {
   "display_name": "Python 3",
   "language": "python",
   "name": "python3"
  },
  "language_info": {
   "codemirror_mode": {
    "name": "ipython",
    "version": 3
   },
   "file_extension": ".py",
   "mimetype": "text/x-python",
   "name": "python",
   "nbconvert_exporter": "python",
   "pygments_lexer": "ipython3",
   "version": "3.12.1"
  }
 },
 "nbformat": 4,
 "nbformat_minor": 2
}
